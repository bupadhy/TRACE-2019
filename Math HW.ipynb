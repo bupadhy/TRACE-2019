{
 "cells": [
  {
   "cell_type": "code",
   "execution_count": null,
   "metadata": {},
   "outputs": [],
   "source": [
    "Basic Math:\n",
    "Create a list of 1 - 10\n",
    "Add 2 to every number in the list the regular way\n",
    "Rewrite in list comprehensive way\n",
    "Write List of 1-10 where each item is squared by 3\n",
    "Write list of 1-10 where only items divisible 3 add 3 to it\n",
    "\n",
    "Stretch Goals\n",
    "\n",
    "Stretch One:\n",
    "Create list of where even or odd is printed depending on number 1-10\n",
    "Stretch Two:\n",
    "Create list of prime numbers through 1-25"
   ]
  },
  {
   "cell_type": "code",
   "execution_count": 22,
   "metadata": {},
   "outputs": [
    {
     "name": "stdout",
     "output_type": "stream",
     "text": [
      "The Squared to 3 list is: [1, 8, 27, 64, 125, 216, 343, 512, 729, 1000]\n",
      "The X+2 list is: [3, 4, 5, 6, 7, 8, 9, 10, 11, 12]\n",
      "The divisible by 3 list is: [3, 6, 9]\n",
      "The divisible by 3 plus 3 is: [6, 9, 12]\n"
     ]
    }
   ],
   "source": [
    "Numbers_list = [1,2,3,4,5,6,7,8,9,10]\n",
    "New_Numbers_list = [x+2 for x in Numbers_list]\n",
    "Squared_Numbers_list = [x**3 for x in Numbers_list]\n",
    "Crazy_list = []\n",
    "for x in Numbers_list:\n",
    "     if x%3 == 0:\n",
    "            Crazy_list.append(x)\n",
    "\n",
    "        \n",
    "Crazy_listplusthree = [x+3 for x in Crazy_list]\n",
    "print(\"The Squared to 3 list is:\", Squared_Numbers_list)\n",
    "print(\"The X+2 list is:\", New_Numbers_list)\n",
    "print(\"The divisible by 3 list is:\", Crazy_list)\n",
    "print(\"The divisible by 3 plus 3 is:\", Crazy_listplusthree)   "
   ]
  }
 ],
 "metadata": {
  "kernelspec": {
   "display_name": "Python 3",
   "language": "python",
   "name": "python3"
  },
  "language_info": {
   "codemirror_mode": {
    "name": "ipython",
    "version": 3
   },
   "file_extension": ".py",
   "mimetype": "text/x-python",
   "name": "python",
   "nbconvert_exporter": "python",
   "pygments_lexer": "ipython3",
   "version": "3.7.1"
  }
 },
 "nbformat": 4,
 "nbformat_minor": 2
}
