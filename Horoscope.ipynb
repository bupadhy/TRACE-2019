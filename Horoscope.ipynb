{
 "cells": [
  {
   "cell_type": "code",
   "execution_count": null,
   "metadata": {},
   "outputs": [],
   "source": [
    "input(\"when is your birthday\")"
   ]
  },
  {
   "cell_type": "code",
   "execution_count": null,
   "metadata": {},
   "outputs": [],
   "source": [
    "Horoscope:\n",
    "Create an horoscope list\n",
    "Create list of 3 horoscopes\n",
    "Set up user input asking for birthday\n",
    "Create function to return zodiac sign by number using if statements\n",
    "Pass zodiac sign to function that randomly picks horoscope\n",
    "Return zodiac sign along with horoscope\n",
    "Stretch Goals\n",
    "Stretch One: Add method to add and delete horoscopes\n",
    "Stretch Two: Add in checks for all the user input. If incorrect user input either give the option to reenter the input or end program"
   ]
  },
  {
   "cell_type": "code",
   "execution_count": null,
   "metadata": {},
   "outputs": [],
   "source": [
    "import random\n",
    "Horoscope_list = [\"you will have a nice day\", \"you will find what you are looking for\", \"your will have good fortune\", \"You will win the lottery\"]\n",
    "day = int(input(\"Input birthdate (1-31): \"))\n",
    "month = input(\"Input month of birth (use numbers like 1 for January and so on): \")\n",
    "astro_sign = \"\"\n",
    "def horoscope(day,month):\n",
    "        #astro_sign = \"\"\n",
    "        if month == '12':\n",
    "            astro_sign = 'Sagittarius' if (day < 22) else 'capricorn'\n",
    "        elif month == '1':\n",
    "            astro_sign = 'Capricorn' if (day < 20) else 'aquarius'\n",
    "        elif month == '2':\n",
    "            astro_sign = 'Aquarius' if (day < 19) else 'pisces'\n",
    "        elif month == '3':\n",
    "            astro_sign = 'Pisces' if (day < 21) else 'aries'\n",
    "        elif month == '4':\n",
    "            astro_sign = 'Aries' if (day < 20) else 'taurus'\n",
    "        elif month == '5':\n",
    "            astro_sign = 'Taurus' if (day < 21) else 'gemini'\n",
    "        elif month == '6':\n",
    "            astro_sign = 'Gemini' if (day < 21) else 'cancer'\n",
    "        elif month == '7':\n",
    "            astro_sign = 'Cancer' if (day < 23) else 'leo'\n",
    "        elif month == '8':\n",
    "            astro_sign = 'Leo' if (day < 23) else 'virgo'\n",
    "        elif month == '9':\n",
    "            astro_sign = 'Virgo' if (day < 23) else 'libra'\n",
    "        elif month == '10':\n",
    "            astro_sign = 'Libra' if (day < 23) else 'scorpio'\n",
    "        elif month == '11':\n",
    "            astro_sign = 'scorpio' if (day < 22) else 'sagittarius'\n",
    "        return astro_sign\n",
    "print(\"Your Astrological sign is :\",horoscope(day,month))\n",
    "print(\"your horoscope for today is:\",random.choice(Horoscope_list))\n",
    "print(astro_sign)"
   ]
  }
 ],
 "metadata": {
  "kernelspec": {
   "display_name": "Python 3",
   "language": "python",
   "name": "python3"
  },
  "language_info": {
   "codemirror_mode": {
    "name": "ipython",
    "version": 3
   },
   "file_extension": ".py",
   "mimetype": "text/x-python",
   "name": "python",
   "nbconvert_exporter": "python",
   "pygments_lexer": "ipython3",
   "version": "3.7.1"
  }
 },
 "nbformat": 4,
 "nbformat_minor": 2
}
